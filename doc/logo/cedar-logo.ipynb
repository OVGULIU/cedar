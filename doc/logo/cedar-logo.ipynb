{
 "cells": [
  {
   "cell_type": "code",
   "execution_count": null,
   "metadata": {},
   "outputs": [],
   "source": [
    "import matplotlib.pyplot as plt\n",
    "import matplotlib.patches as patches\n",
    "from matplotlib import colors\n",
    "import numpy as np\n",
    "from scipy.misc import imread\n",
    "%matplotlib inline"
   ]
  },
  {
   "cell_type": "code",
   "execution_count": null,
   "metadata": {},
   "outputs": [],
   "source": [
    "# CC0 image:\n",
    "# https://pixabay.com/en/trees-silhouette-variety-309435/"
   ]
  },
  {
   "cell_type": "code",
   "execution_count": null,
   "metadata": {},
   "outputs": [],
   "source": [
    "def quad_mesh(ax, bx, ay, by, nx, ny, a, color, alpha):\n",
    "    \"\"\"\n",
    "    plot a mesh on Omega = [ax, bx] x [ay, by]\n",
    "    \n",
    "    with axis a using color and alpha\n",
    "    \"\"\"\n",
    "    from matplotlib.collections import LineCollection\n",
    "    x = np.linspace(ax, bx, nx)\n",
    "    y = np.linspace(ay, by, ny)\n",
    "    lines = []\n",
    "    for xx in x:\n",
    "        lines.append([(xx, ay), (xx, by)])\n",
    "    for yy in y:\n",
    "        lines.append([(ax, yy), (bx, yy)])\n",
    "    l = LineCollection(lines, lw=2, clip_on=False, color=[c/255.0 for c in color] + [alpha])\n",
    "    \n",
    "    a.set_xlim(ax, bx)\n",
    "    a.set_ylim(ay, by)\n",
    "    a.add_collection(l)"
   ]
  },
  {
   "cell_type": "code",
   "execution_count": null,
   "metadata": {},
   "outputs": [],
   "source": [
    "f, a = plt.subplots(figsize=(30,20))\n",
    "\n",
    "if 1:\n",
    "    # dark background\n",
    "    colorfg = [255,255,255]\n",
    "    color = [43,93,52]\n",
    "if 0:\n",
    "    # light background\n",
    "    color = [255,255,255]\n",
    "    colorfg = [43,93,52]\n",
    "\n",
    "colorhex = colors.rgb2hex([c/255.0 for c in color])\n",
    "colorfghex = colors.rgb2hex([c/255.0 for c in colorfg])\n",
    "\n",
    "# plot the background\n",
    "bx = 600\n",
    "by = 100\n",
    "size=(0, bx, 0, by)\n",
    "rect = patches.Rectangle([0,0], bx, by, color=colorhex, zorder=-10)\n",
    "a.add_patch(rect)\n",
    "\n",
    "# plot the grids\n",
    "N = 6\n",
    "for i in range(0,N+1):\n",
    "    bs = 60\n",
    "    quad_mesh(bx-(N+1)*bs+i*bs, bx-(N+1)*bs+(i+1)*bs, 0, by, 8, 2**i+1, a, colorfg, i/N)\n",
    "\n",
    "# name\n",
    "if 0:\n",
    "    plt.text(50, 20, 'Cedar', fontsize=64, fontname='Courier New', color=colorfghex, fontweight='bold')\n",
    "\n",
    "if 1:\n",
    "    plt.text(50, 35, 'Cedar', fontsize=64, fontname='Courier New', color=colorfghex, fontweight='bold')\n",
    "    plt.text(50, 20, 'Parallel structured multigrid solvers', fontsize=28, fontname='Courier New', color=colorfghex, fontweight='bold')\n",
    "\n",
    "# image\n",
    "img = imread('trees-309435.png')\n",
    "for i in range(img.shape[0]):\n",
    "    for j in range(img.shape[1]):\n",
    "        v = img[i,j,:]\n",
    "        if v[0] == v[1] == v[2] == 0:\n",
    "            img[i,j,:3] = color\n",
    "            img[i,j,3] = 255\n",
    "        else:\n",
    "            img[i,j,:3] = colorfg\n",
    "            img[i,j,3] = 255\n",
    "            \n",
    "w = 20\n",
    "plt.imshow(img, extent=(20, 20+w, 20, 20+w*img.shape[0]/img.shape[1]))\n",
    "\n",
    "plt.axis('image')\n",
    "plt.axis('off')\n",
    "\n",
    "ax = plt.gca()\n",
    "ax.get_xaxis().set_visible(False)\n",
    "ax.get_yaxis().set_visible(False)\n",
    "\n",
    "plt.savefig('cedar-logo.png', dpi=300, bbox_inches='tight', pad_inches=0)"
   ]
  },
  {
   "cell_type": "markdown",
   "metadata": {},
   "source": [
    "#### Just for debugging fonts vvvvvvvv"
   ]
  },
  {
   "cell_type": "code",
   "execution_count": null,
   "metadata": {},
   "outputs": [],
   "source": [
    "import matplotlib.font_manager\n",
    "flist = matplotlib.font_manager.get_fontconfig_fonts()\n",
    "for f in flist:\n",
    "    try:\n",
    "        name = matplotlib.font_manager.FontProperties(fname=f).get_name()\n",
    "        if name == 'System Font':\n",
    "            continue\n",
    "        if '.SF' in name:\n",
    "            continue\n",
    "        print(name)\n",
    "    except:\n",
    "        pass\n",
    "#names = [matplotlib.font_manager.FontProperties(fname=fname).get_name() for fname in flist]"
   ]
  },
  {
   "cell_type": "code",
   "execution_count": null,
   "metadata": {},
   "outputs": [],
   "source": []
  }
 ],
 "metadata": {
  "kernelspec": {
   "display_name": "Python 3",
   "language": "python",
   "name": "python3"
  },
  "language_info": {
   "codemirror_mode": {
    "name": "ipython",
    "version": 3
   },
   "file_extension": ".py",
   "mimetype": "text/x-python",
   "name": "python",
   "nbconvert_exporter": "python",
   "pygments_lexer": "ipython3",
   "version": "3.6.4"
  }
 },
 "nbformat": 4,
 "nbformat_minor": 2
}
