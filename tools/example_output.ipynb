{
 "cells": [
  {
   "cell_type": "code",
   "execution_count": null,
   "metadata": {
    "collapsed": true,
    "deletable": true,
    "editable": true
   },
   "outputs": [],
   "source": [
    "import numpy as np\n",
    "import matplotlib.pyplot as plt\n",
    "%matplotlib inline"
   ]
  },
  {
   "cell_type": "code",
   "execution_count": null,
   "metadata": {
    "collapsed": false,
    "deletable": true,
    "editable": true
   },
   "outputs": [],
   "source": [
    "nproc = 6\n",
    "data = []\n",
    "for p in range(nproc):\n",
    "    d = np.loadtxt('../build/solution-%d.txt'%p, delimiter=',',\n",
    "                   usecols=[1,2,3], dtype='int,int,float', unpack=True)\n",
    "    d[0] -= 1  # zero-based\n",
    "    d[1] -= 1  # zero-based\n",
    "    data.append(d)\n",
    "xmin = min([d[0].min() for d in data])\n",
    "ymin = min([d[1].min() for d in data])\n",
    "xmax = max([d[0].max() for d in data])\n",
    "ymax = max([d[1].max() for d in data])\n",
    "nx = xmax - xmin + 1 + 2 # for boundaries\n",
    "ny = ymax - ymin + 1 + 2 # for boundaries\n",
    "print(nx, ny)"
   ]
  },
  {
   "cell_type": "code",
   "execution_count": null,
   "metadata": {
    "collapsed": false,
    "deletable": true,
    "editable": true
   },
   "outputs": [],
   "source": [
    "X, Y = np.mgrid[0:1:nx*1j,0:1:ny*1j]\n",
    "Z = np.zeros(X.shape)\n",
    "P = np.zeros(X.shape)\n",
    "for p in range(nproc):\n",
    "    I = data[p][0]\n",
    "    J = data[p][1]\n",
    "    Z[I,J] = data[p][2]\n",
    "    P[I,J] = p"
   ]
  },
  {
   "cell_type": "code",
   "execution_count": null,
   "metadata": {
    "collapsed": false,
    "deletable": true,
    "editable": true
   },
   "outputs": [],
   "source": [
    "f, (ax1, ax2) = plt.subplots(1, 2, figsize=(10, 5))\n",
    "ax1.pcolormesh(X, Y, P)\n",
    "ax2.pcolormesh(X, Y, Z)\n",
    "plt.savefig('example_output.png')"
   ]
  }
 ],
 "metadata": {
  "kernelspec": {
   "display_name": "Python 3",
   "language": "python",
   "name": "python3"
  },
  "language_info": {
   "codemirror_mode": {
    "name": "ipython",
    "version": 3
   },
   "file_extension": ".py",
   "mimetype": "text/x-python",
   "name": "python",
   "nbconvert_exporter": "python",
   "pygments_lexer": "ipython3",
   "version": "3.6.1"
  }
 },
 "nbformat": 4,
 "nbformat_minor": 2
}
